{
 "cells": [
  {
   "cell_type": "markdown",
   "metadata": {},
   "source": [
    "<h1>EXPERT SYSTEM 112 </h1>\n",
    "<h4> Yoshua Lukas </h4>\n",
    "<h4> 1313617021 </h4>\n",
    "<h4> Ilmu Komputer 2017 </h4>\n",
    "<h1><center>ASSIGNMENT 1 - TASK 1 </h1>"
   ]
  },
  {
   "cell_type": "code",
   "execution_count": 1,
   "metadata": {},
   "outputs": [],
   "source": [
    "import matplotlib.pyplot as plt\n",
    "import numpy as np\n",
    "import string"
   ]
  },
  {
   "cell_type": "markdown",
   "metadata": {},
   "source": [
    "<h2> Function"
   ]
  },
  {
   "cell_type": "code",
   "execution_count": 2,
   "metadata": {},
   "outputs": [],
   "source": [
    "# Matriks Identitas\n",
    "def identity(A):\n",
    "    xs = []\n",
    "    ys = []\n",
    "    for row in A:\n",
    "        output_row = I @ row\n",
    "        x, y, i = output_row\n",
    "        xs.append(x)\n",
    "        ys.append(y)\n",
    "    xs.append(xs[0])\n",
    "    ys.append(ys[0])\n",
    "    return xs, ys\n",
    "\n",
    "#Plot Before dan After Scaling\n",
    "def plot_scale(A, xs, ys):\n",
    "    warna1 = 'green'\n",
    "    warna2 = 'red'\n",
    "    fig = plt.figure()\n",
    "    ax = plt.gca()\n",
    "    xs_scale = []\n",
    "    ys_scale = []\n",
    "    for row in A:\n",
    "        output_row = scale @ row\n",
    "        x, y, i = row\n",
    "        x_scale, y_scale, i_scale = output_row\n",
    "        xs_scale.append(x_scale)\n",
    "        ys_scale.append(y_scale)\n",
    "        c, c_scale = warna1, warna2\n",
    "        plt.scatter(x, y, color = c)\n",
    "        plt.scatter(x_scale, y_scale, color=c_scale)\n",
    "    xs_scale.append(xs_scale[0])\n",
    "    ys_scale.append(ys_scale[0])\n",
    "    plt.plot(xs, ys, color=\"green\")\n",
    "    plt.plot(xs_scale, ys_scale, color=\"red\")\n",
    "    plt.title(\"Scaling\")\n",
    "    ax.set_xticks(np.arange(-5, 5, 1))\n",
    "    ax.set_yticks(np.arange(-5, 5, 1))\n",
    "    return plt.grid(), plt.show()\n",
    "\n",
    "#Plot Before dan After Translation\n",
    "def plot_translation(A, xs, ys):\n",
    "    warna1 = 'green'\n",
    "    warna2 = 'red'\n",
    "    fig = plt.figure()\n",
    "    ax = plt.gca()\n",
    "    xs_trans = []\n",
    "    ys_trans = []\n",
    "    for row in A:\n",
    "        output_row = trans @ row\n",
    "        x, y, i = row\n",
    "        x_trans, y_trans, i_trans = output_row\n",
    "        xs_trans.append(x_trans)\n",
    "        ys_trans.append(y_trans)\n",
    "        c, c_trans = warna1, warna2\n",
    "        plt.scatter(x, y, color = c)\n",
    "        plt.scatter(x_trans, y_trans, color=c_trans)\n",
    "    xs_trans.append(xs_trans[0])\n",
    "    ys_trans.append(ys_trans[0])\n",
    "    plt.plot(xs, ys, color=\"green\")\n",
    "    plt.plot(xs_trans, ys_trans, color=\"red\")\n",
    "    plt.title(\"Translation\")\n",
    "    ax.set_xticks(np.arange(-5, 5, 1))\n",
    "    ax.set_yticks(np.arange(-5, 5, 1))\n",
    "    return plt.grid(), plt.show()\n",
    "\n",
    "#Plot Before dan After Rotation\n",
    "def plot_rotation(A, xs, ys):\n",
    "    warna1 = 'green'\n",
    "    warna2 = 'red'\n",
    "    fig = plt.figure()\n",
    "    ax = plt.gca()\n",
    "    xs_rot = []\n",
    "    ys_rot = []\n",
    "    for row in A:\n",
    "        output_row = rot @ row\n",
    "        x, y, i = row\n",
    "        x_rot, y_rot, i_rot = output_row\n",
    "        xs_rot.append(x_rot)\n",
    "        ys_rot.append(y_rot)\n",
    "        c, c_rot = warna1, warna2\n",
    "        plt.scatter(x, y, color = c)\n",
    "        plt.scatter(x_rot, y_rot, color=c_rot)\n",
    "    xs_rot.append(xs_rot[0])\n",
    "    ys_rot.append(ys_rot[0])\n",
    "    plt.plot(xs, ys, color=\"green\")\n",
    "    plt.plot(xs_rot, ys_rot, color=\"red\")\n",
    "    plt.title(\"Rotation\")\n",
    "    ax.set_xticks(np.arange(-5, 5, 1))\n",
    "    ax.set_yticks(np.arange(-5, 5, 1))\n",
    "    return plt.grid(), plt.show()\n",
    "\n",
    "#Plot Before dan After Projective\n",
    "def plot_projective(A, xs, ys):\n",
    "    warna1 = 'green'\n",
    "    warna2 = 'red'\n",
    "    fig = plt.figure()\n",
    "    ax = plt.gca()\n",
    "    xs_proj = []\n",
    "    ys_proj = []\n",
    "    for row in A:\n",
    "        output_w = proj @ row\n",
    "        output_row = output_w / output_w[-1]\n",
    "        x, y, i = row\n",
    "        x_proj, y_proj, i_proj = output_row\n",
    "        xs_proj.append(x_proj)\n",
    "        ys_proj.append(y_proj)\n",
    "        c, c_proj = warna1, warna2\n",
    "        plt.scatter(x, y, color = c)\n",
    "        plt.scatter(x_proj, y_proj, color=c_proj)\n",
    "    xs_proj.append(xs_proj[0])\n",
    "    ys_proj.append(ys_proj[0])\n",
    "    plt.plot(xs, ys, color=\"green\")\n",
    "    plt.plot(xs_proj, ys_proj, color=\"red\")\n",
    "    plt.title(\"Projective\")\n",
    "    ax.set_xticks(np.arange(-5, 5, 1))\n",
    "    ax.set_yticks(np.arange(-5, 5, 1))\n",
    "    return plt.grid(), plt.show()"
   ]
  },
  {
   "cell_type": "markdown",
   "metadata": {},
   "source": [
    "<h2>Deklarasi Variable Function"
   ]
  },
  {
   "cell_type": "code",
   "execution_count": 3,
   "metadata": {},
   "outputs": [],
   "source": [
    "# 4 Buah Titik dengan lokasi berbeda\n",
    "a, b, c, d = (2, 2, 1), (2, -2, 1), (-2, -2, 1), (-2, 2, 1)\n",
    "\n",
    "# bentuk matriksnya\n",
    "A = np.array([a, b, c, d])\n",
    "\n",
    "# matriks identitas\n",
    "I = np.eye(3)\n",
    "\n",
    "# matriks scaling (diperbesar 2 kali)\n",
    "scale = np.array([[2, 0, 0], [0, 2, 0], [0, 0, 1]])\n",
    "\n",
    "# matriks translation (translasi 1 kekanan, 1 keatas)\n",
    "trans = np.array([[1, 0, 1], [0, 1, 1], [0, 0, 1]])\n",
    "\n",
    "# matriks rotation (rotasi 90 derajat)\n",
    "theta = np.pi//2\n",
    "sin = np.sin(theta)\n",
    "cos = np.cos(theta)\n",
    "rot = np.array([[cos, sin, 0], [-sin, cos, 0], [0, 0, 1]])\n",
    "\n",
    "# matriks projective\n",
    "proj = np.array([[1, 0, 1], [1, 1, 1], [0.1, 0.1, 1]])\n"
   ]
  },
  {
   "cell_type": "markdown",
   "metadata": {},
   "source": [
    "<h2> Scaling"
   ]
  },
  {
   "cell_type": "code",
   "execution_count": 4,
   "metadata": {
    "scrolled": true
   },
   "outputs": [
    {
     "data": {
      "image/png": "[encoded data removed]",
      "text/plain": [
       "<Figure size 432x288 with 1 Axes>"
      ]
     },
     "metadata": {
      "needs_background": "light"
     },
     "output_type": "display_data"
    },
    {
     "data": {
      "text/plain": [
       "(None, None)"
      ]
     },
     "execution_count": 4,
     "metadata": {},
     "output_type": "execute_result"
    }
   ],
   "source": [
    "xs , ys = identity(A)\n",
    "plot_scale(A, xs, ys)"
   ]
  },
  {
   "cell_type": "markdown",
   "metadata": {},
   "source": [
    "<h2> Translation"
   ]
  },
  {
   "cell_type": "code",
   "execution_count": 5,
   "metadata": {},
   "outputs": [
    {
     "data": {
      "image/png": "[encoded data removed]",
      "text/plain": [
       "<Figure size 432x288 with 1 Axes>"
      ]
     },
     "metadata": {
      "needs_background": "light"
     },
     "output_type": "display_data"
    },
    {
     "data": {
      "text/plain": [
       "(None, None)"
      ]
     },
     "execution_count": 5,
     "metadata": {},
     "output_type": "execute_result"
    }
   ],
   "source": [
    "plot_translation(A, xs, ys)"
   ]
  },
  {
   "cell_type": "markdown",
   "metadata": {},
   "source": [
    "<h2> Rotation"
   ]
  },
  {
   "cell_type": "code",
   "execution_count": 6,
   "metadata": {},
   "outputs": [
    {
     "data": {
      "image/png": "[encoded data removed]",
      "text/plain": [
       "<Figure size 432x288 with 1 Axes>"
      ]
     },
     "metadata": {
      "needs_background": "light"
     },
     "output_type": "display_data"
    },
    {
     "data": {
      "text/plain": [
       "(None, None)"
      ]
     },
     "execution_count": 6,
     "metadata": {},
     "output_type": "execute_result"
    }
   ],
   "source": [
    "plot_rotation(A, xs, ys)"
   ]
  },
  {
   "cell_type": "markdown",
   "metadata": {},
   "source": [
    "<h2> Projective"
   ]
  },
  {
   "cell_type": "code",
   "execution_count": 7,
   "metadata": {},
   "outputs": [
    {
     "data": {
      "image/png": "[encoded data removed]",
      "text/plain": [
       "<Figure size 432x288 with 1 Axes>"
      ]
     },
     "metadata": {
      "needs_background": "light"
     },
     "output_type": "display_data"
    },
    {
     "data": {
      "text/plain": [
       "(None, None)"
      ]
     },
     "execution_count": 7,
     "metadata": {},
     "output_type": "execute_result"
    }
   ],
   "source": [
    "plot_projective(A, xs, ys)"
   ]
  }
 ],
 "metadata": {
  "kernelspec": {
   "display_name": "Python 3",
   "language": "python",
   "name": "python3"
  },
  "language_info": {
   "codemirror_mode": {
    "name": "ipython",
    "version": 3
   },
   "file_extension": ".py",
   "mimetype": "text/x-python",
   "name": "python",
   "nbconvert_exporter": "python",
   "pygments_lexer": "ipython3",
   "version": "3.7.4"
  }
 },
 "nbformat": 4,
 "nbformat_minor": 2
}
